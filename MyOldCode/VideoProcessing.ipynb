{
 "cells": [
  {
   "cell_type": "code",
   "execution_count": null,
   "metadata": {
    "pycharm": {
     "is_executing": true,
     "name": "#%% -o targetFile\n"
    }
   },
   "outputs": [],
   "source": [
    "# https://github.com/galenballew/SDC-Lane-and-Vehicle-Detection-Tracking\n",
    "\n",
    "# Select which file to use\n",
    "from pathlib import Path\n",
    "import cv2 as cv\n",
    "from tqdm import tqdm\n",
    "from IPython.display import clear_output\n",
    "import processes\n",
    "\n",
    "# Define which folder the videos are in and which index to use\n",
    "path = Path(\"G:\\Golf cart dataset\\My Videos\")\n",
    "number = 0\n",
    "\n",
    "files = [i for i in path.iterdir()]\n",
    "[print(f\"{cnt}|\\t{i}\") for cnt, i in enumerate(files)]\n",
    "\n",
    "targetFile = files[number]\n",
    "print(f\"\\nLoading '{targetFile.parts[-1]}' at {targetFile}\")\n",
    " \n",
    "cap = cv.VideoCapture(str(targetFile))  # Get the video capture stream\n",
    "progress = range(int(cap.get(cv.CAP_PROP_FRAME_COUNT)))\n",
    "cv.namedWindow('frame', cv.WINDOW_GUI_EXPANDED)  # Build a named window which can be resized\n",
    "cv.namedWindow('binaryPipeline', cv.WINDOW_GUI_EXPANDED)  # Build a named window which can be resized\n",
    "cv.waitKey(0)\n",
    "# while cap.isOpened():\n",
    "for i in tqdm(progress):\n",
    "    ret, frame = cap.read()\n",
    "    \n",
    "    binaryProcess = processes.binary_pipeline(frame, True)\n",
    "    cv.imshow('binaryPipeline', binaryProcess)\n",
    "    cv.imshow('frame',frame)\n",
    "    if cv.waitKey(0) & 0xFF == ord('q'):\n",
    "        break\n",
    "    \n",
    "    clear_output(wait=True)\n",
    "    \n",
    "\n",
    "cap.release()\n",
    "cv.destroyAllWindows()"
   ]
  }
 ],
 "metadata": {
  "kernelspec": {
   "display_name": "Python 3",
   "language": "python",
   "name": "python3"
  },
  "language_info": {
   "codemirror_mode": {
    "name": "ipython",
    "version": 2
   },
   "file_extension": ".py",
   "mimetype": "text/x-python",
   "name": "python",
   "nbconvert_exporter": "python",
   "pygments_lexer": "ipython2",
   "version": "2.7.6"
  },
  "pycharm": {
   "stem_cell": {
    "cell_type": "raw",
    "source": [],
    "metadata": {
     "collapsed": false
    }
   }
  }
 },
 "nbformat": 4,
 "nbformat_minor": 1
}