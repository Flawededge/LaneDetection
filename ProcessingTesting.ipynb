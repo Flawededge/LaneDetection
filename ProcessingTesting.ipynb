{
 "cells": [
  {
   "cell_type": "code",
   "execution_count": 3,
   "metadata": {
    "collapsed": true,
    "pycharm": {
     "is_executing": false,
     "name": "#%% -o fileList imageArray\n"
    }
   },
   "outputs": [
    {
     "name": "stdout",
     "text": [
      "Initial Load cell: ",
      "88 images loaded from folder",
      "\n",
      "--------------------------------------------------",
      "\n"
     ],
     "output_type": "stream"
    }
   ],
   "source": [
    "import os\n",
    "import cv2\n",
    "\n",
    "print(\"Initial Load cell: \", end='')\n",
    "\n",
    "fileList = os.listdir(\"TestSet\")\n",
    "\n",
    "fileList = [f\"TestSet/{i}\" for i in fileList]\n",
    "print(f\"{len(fileList)} images loaded from folder\")\n",
    "\n",
    "imageArray = [cv2.imread(i) for i in fileList]\n",
    "\n",
    "print(''.join(['-' for i in range(50)]))\n"
   ]
  },
  {
   "cell_type": "code",
   "execution_count": 4,
   "outputs": [
    {
     "name": "stderr",
     "text": [
      "\r100%|██████████| 88/88 [00:12<00:00,  7.32it/s]",
      "\n"
     ],
     "output_type": "stream"
    },
    {
     "name": "stdout",
     "text": [
      "--------------------------------------------------",
      "\n"
     ],
     "output_type": "stream"
    }
   ],
   "source": [
    "# Reliable lane markings\n",
    "\n",
    "# https://github.com/galenballew/SDC-Lane-and-Vehicle-Detection-Tracking\n",
    "# OMG FOUND A THING!\n",
    "\n",
    "import cv2\n",
    "from tqdm import tqdm\n",
    "from IPython.display import clear_output\n",
    "import numpy as np\n",
    "\n",
    "def region_of_interest(img, vertices):\n",
    "    \"\"\"\n",
    "    Applies an image mask.\n",
    "    Only keeps the region of the image defined by the polygon\n",
    "    formed from `vertices`. The rest of the image is set to black.\n",
    "    \"\"\"\n",
    "    #defining a blank mask to start with\n",
    "    mask = np.zeros_like(img)\n",
    "\n",
    "    #defining a 3 channel or 1 channel color to fill the mask with depending on the input image\n",
    "    if len(img.shape) > 2:\n",
    "        channel_count = img.shape[2]  # i.e. 3 or 4 depending on your image\n",
    "        ignore_mask_color = (255,) * channel_count\n",
    "    else:\n",
    "        ignore_mask_color = 255\n",
    "\n",
    "    #filling pixels inside the polygon defined by \"vertices\" with the fill color\n",
    "    cv2.fillPoly(mask, vertices, ignore_mask_color)\n",
    "\n",
    "    #returning the image only where mask pixels are nonzero\n",
    "    masked_image = cv2.bitwise_and(img, mask)\n",
    "    return masked_image\n",
    "\n",
    "showHistogram = False\n",
    "showCanny = False\n",
    "showRoi = False\n",
    "timeDelay = 30\n",
    "\n",
    "reliableMarkings = []\n",
    "print(\"Reliable Lane markings cell: \")\n",
    "for im in tqdm(imageArray):\n",
    "    # Feature extraction based off https://medium.com/@galen.ballew/opencv-lanedetection-419361364fc0\n",
    "    # Only white lines are going to be looked out, so only one threshold is needed\n",
    "    grayIm = cv2.cvtColor(im, cv2.COLOR_BGR2GRAY)  # White uses grayscale threshold\n",
    "    grayImHist = cv2.equalizeHist(grayIm)  # Equalize the image to account for changes in exposure\n",
    "    \n",
    "    if showHistogram:\n",
    "        cv2.imshow(\"PreHist\", cv2.resize(grayIm, None, fx=0.5, fy=0.5))\n",
    "        cv2.imshow(\"PostHist\", cv2.resize(grayImHist, None, fx=0.5, fy=0.5))\n",
    "        cv2.waitKey(timeDelay)\n",
    "    \n",
    "    # Apply a mask to find the white lines on the road\n",
    "    mask_white = cv2.inRange(grayImHist, 200, 255)  # Threshold bright values\n",
    "    kernel_size = 5\n",
    "    mask_white = cv2.GaussianBlur(mask_white,(kernel_size,kernel_size),0)\n",
    "    mask_white = cv2.medianBlur(mask_white, 11)\n",
    "    \n",
    "    # Apply canny edge detection to look for lines with relevant gradients\n",
    "    low_threshold = 50\n",
    "    high_threshold = 150\n",
    "    canny_edges = cv2.Canny(mask_white, low_threshold, high_threshold)\n",
    "    if showCanny:\n",
    "        cv2.imshow(\"Canny\", cv2.resize(canny_edges, None, fx=0.5, fy=0.5))\n",
    "        cv2.waitKey(timeDelay)\n",
    "    # Apply a region of interest\n",
    "    imshape = im.shape\n",
    "    lower_left = [imshape[1]/10,imshape[0]]\n",
    "    lower_right = [imshape[1]-imshape[1]/10,imshape[0]]\n",
    "    top_left = [imshape[1]/2-imshape[1]/8,imshape[0]/2+imshape[0]/15]\n",
    "    top_right = [imshape[1]/2+imshape[1]/8,imshape[0]/2+imshape[0]/15]\n",
    "    vertices = [np.array([lower_left,top_left,top_right,lower_right],dtype=np.int32)]  # Get the relevant roi\n",
    "    \n",
    "    roi_image = region_of_interest(canny_edges, vertices)\n",
    "    # Apply the roi\n",
    "    if showRoi:\n",
    "        cv2.imshow(\"Roi\", cv2.resize(roi_image, None, fx=0.5, fy=0.5))\n",
    "        cv2.waitKey(timeDelay)\n",
    "        \n",
    "    reliableMarkings.append(roi_image)\n",
    "    clear_output(True)\n",
    "\n",
    "\n",
    "print(''.join(['-' for i in range(50)]))"
   ],
   "metadata": {
    "collapsed": false,
    "pycharm": {
     "name": "#%% -i imageArray -o reliableMarkings\n",
     "is_executing": false
    }
   }
  },
  {
   "cell_type": "code",
   "execution_count": 8,
   "outputs": [
    {
     "name": "stderr",
     "text": [
      "\r88it [00:09,  9.31it/s]",
      "\n"
     ],
     "output_type": "stream"
    },
    {
     "name": "stdout",
     "text": [
      "--------------------------------------------------",
      "\n"
     ],
     "output_type": "stream"
    },
    {
     "data": {
      "text/plain": "<Figure size 432x288 with 0 Axes>"
     },
     "metadata": {},
     "output_type": "display_data"
    }
   ],
   "source": [
    "# Show of all the processing types\n",
    "import cv2\n",
    "from matplotlib import pyplot as plt\n",
    "from IPython.display import clear_output\n",
    "from tqdm import tqdm\n",
    "\n",
    "fig = plt.figure()\n",
    "ims = []\n",
    "for img, reliable in tqdm(zip(imageArray, reliableMarkings)):\n",
    "    \n",
    "    cv2.imshow(\"Original\", cv2.resize(img, None, fx=0.5, fy=0.5))\n",
    "    cv2.imshow(\"Reliable markings\", cv2.resize(reliable, None, fx=0.5, fy=0.5))\n",
    "    cv2.waitKey(100)\n",
    "    clear_output(True)\n",
    "\n",
    "print(''.join(['-' for i in range(50)]))\n",
    "\n",
    "\n"
   ],
   "metadata": {
    "collapsed": false,
    "pycharm": {
     "name": "#%% -i imageArray reliableMarkings\n",
     "is_executing": false
    }
   }
  }
 ],
 "metadata": {
  "language_info": {
   "codemirror_mode": {
    "name": "ipython",
    "version": 2
   },
   "file_extension": ".py",
   "mimetype": "text/x-python",
   "name": "python",
   "nbconvert_exporter": "python",
   "pygments_lexer": "ipython2",
   "version": "2.7.6"
  },
  "kernelspec": {
   "name": "python3",
   "language": "python",
   "display_name": "Python 3"
  },
  "pycharm": {
   "stem_cell": {
    "cell_type": "raw",
    "source": [],
    "metadata": {
     "collapsed": false
    }
   }
  }
 },
 "nbformat": 4,
 "nbformat_minor": 0
}