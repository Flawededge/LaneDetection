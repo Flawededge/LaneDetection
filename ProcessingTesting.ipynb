{
 "cells": [
  {
   "cell_type": "code",
   "execution_count": 1,
   "metadata": {
    "collapsed": true,
    "pycharm": {
     "is_executing": false,
     "name": "#%% -o fileList imageArray\n"
    }
   },
   "outputs": [
    {
     "name": "stdout",
     "text": [
      "Initial Load cell: 88 images loaded from folder\n",
      "--------------------------------------------------\n"
     ],
     "output_type": "stream"
    }
   ],
   "source": [
    "import os\n",
    "import cv2\n",
    "\n",
    "print(\"Initial Load cell: \", end='')\n",
    "\n",
    "fileList = os.listdir(\"TestSet\")\n",
    "\n",
    "fileList = [f\"TestSet/{i}\" for i in fileList]\n",
    "print(f\"{len(fileList)} images loaded from folder\")\n",
    "\n",
    "imageArray = [cv2.imread(i) for i in fileList]\n",
    "\n",
    "print(''.join(['-' for i in range(50)]))"
   ]
  },
  {
   "cell_type": "code",
   "execution_count": 31,
   "outputs": [
    {
     "data": {
      "text/plain": "-1"
     },
     "metadata": {},
     "output_type": "execute_result",
     "execution_count": 31
    }
   ],
   "source": [
    "# IPM Test - Note: Self contained\n",
    "import cv2 as cv\n",
    "import numpy as np\n",
    "\n",
    "def find_corners(contour, image_size):\n",
    "    \"\"\" Find Corners\n",
    "    Finds the most extreme corners in clockwise order from Top Left    \n",
    "    :param contour: The contour to process\n",
    "    :param image_size: The image.shape\n",
    "    :return: 4 Points [Top left, Top Right, Bottom Right, Bottom Left]\n",
    "    \"\"\"\n",
    "    height = image_size[0]\n",
    "    width = image_size[1]\n",
    "    output = [None, None, None, None]\n",
    "    values = [0, 0, 0, 0]\n",
    "    \n",
    "    for cur in contour:\n",
    "        x = cur[0][0]\n",
    "        y = cur[0][1]\n",
    "        # print(f\"X:{x}\\tY:{y}\")\n",
    "        \n",
    "        large_y = y\n",
    "        large_x = x\n",
    "        small_y = height - y\n",
    "        small_x = width - x\n",
    "\n",
    "        cur_values = [\n",
    "            small_x + small_y,\n",
    "            large_x + small_y,\n",
    "            large_x + large_y,\n",
    "            small_x + large_y\n",
    "        ]\n",
    "        for i in range(4):\n",
    "            if values[i] < cur_values[i]:\n",
    "                output[i] = [x, y]\n",
    "                values[i] = cur_values[i]\n",
    "    # print(output)\n",
    "    return output\n",
    "\n",
    "image_scale = 0.5\n",
    "show_delay = 100\n",
    "cv.namedWindow(\"Cur\", cv.WINDOW_FREERATIO)\n",
    "\n",
    "image = cv.imread(\"TestSet/IPM_2.jpg\")\n",
    "image = cv.resize(image, None, fx=image_scale, fy=image_scale)\n",
    "cv.imshow(\"Cur\", image)\n",
    "cv.waitKey(show_delay)\n",
    "\n",
    "hsv_image = cv.cvtColor(image, cv.COLOR_BGR2HSV)\n",
    "cv.imshow(\"Cur\", hsv_image)\n",
    "cv.waitKey(show_delay)\n",
    "\n",
    "thresh_image = cv.inRange(hsv_image, (0, 0, 160), (160, 255, 255))\n",
    "cv.imshow(\"Cur\", thresh_image)\n",
    "cv.waitKey(show_delay)\n",
    "\n",
    "thresh_image = cv.medianBlur(thresh_image, 9)\n",
    "cv.imshow(\"Cur\", thresh_image)\n",
    "cv.waitKey(show_delay)\n",
    "\n",
    "contours, hierarchy = cv.findContours(thresh_image, cv.RETR_EXTERNAL, \n",
    "                                       cv.CHAIN_APPROX_NONE)\n",
    "\n",
    "originMatrix = np.float32([[0,0],[500,0],[500,500],[0,500]])\n",
    "warped = None\n",
    "if len(contours) != 0:\n",
    "    # draw in blue the contours that were founded\n",
    "    cv.drawContours(image, contours, -1, 255, 3)\n",
    "\n",
    "    #find the biggest area\n",
    "    c = max(contours, key = cv.contourArea)\n",
    "    tmp = find_corners(c, thresh_image.shape)\n",
    "    # print(image.shape)\n",
    "    for i in tmp:\n",
    "        # print(i)\n",
    "        cv.circle(image, (i[0], i[1]), 5, (0, 0, 255), 3)\n",
    "    m = cv.getPerspectiveTransform(np.float32(tmp), originMatrix)\n",
    "    warped = cv.warpPerspective(image, m, (500, 500))\n",
    "\n",
    "    x,y,w,h = cv.boundingRect(c)\n",
    "    # draw the book contour (in green)\n",
    "    # cv.rectangle(image,(x,y),(x+w,y+h),(0,255,0),2)\n",
    "cv.imshow(\"Cur\", image)\n",
    "cv.waitKey(show_delay)\n",
    "\n",
    "cv.imshow(\"Cur\", warped)\n",
    "cv.waitKey(show_delay)\n",
    "\n",
    "# cv.waitKey(1500)\n",
    "# cv.destroyAllWindows()"
   ],
   "metadata": {
    "collapsed": false,
    "pycharm": {
     "name": "#%% \n",
     "is_executing": false
    }
   }
  },
  {
   "cell_type": "code",
   "execution_count": 3,
   "outputs": [
    {
     "name": "stderr",
     "text": [
      "\r100%|██████████| 88/88 [00:06<00:00, 12.78it/s]",
      "\n"
     ],
     "output_type": "stream"
    },
    {
     "name": "stdout",
     "text": [
      "--------------------------------------------------",
      "\n"
     ],
     "output_type": "stream"
    }
   ],
   "source": [
    "# Reliable lane markings\n",
    "\n",
    "# https://github.com/galenballew/SDC-Lane-and-Vehicle-Detection-Tracking\n",
    "# OMG FOUND A THING!\n",
    "\n",
    "import cv2\n",
    "from tqdm import tqdm\n",
    "from IPython.display import clear_output\n",
    "import numpy as np\n",
    "\n",
    "def region_of_interest(img, vertices):\n",
    "    \"\"\"\n",
    "    Applies an image mask.\n",
    "    Only keeps the region of the image defined by the polygon\n",
    "    formed from `vertices`. The rest of the image is set to black.\n",
    "    \"\"\"\n",
    "    #defining a blank mask to start with\n",
    "    mask = np.zeros_like(img)\n",
    "\n",
    "    #defining a 3 channel or 1 channel color to fill the mask with depending on the input image\n",
    "    if len(img.shape) > 2:\n",
    "        channel_count = img.shape[2]  # i.e. 3 or 4 depending on your image\n",
    "        ignore_mask_color = (255,) * channel_count\n",
    "    else:\n",
    "        ignore_mask_color = 255\n",
    "\n",
    "    #filling pixels inside the polygon defined by \"vertices\" with the fill color\n",
    "    cv2.fillPoly(mask, vertices, ignore_mask_color)\n",
    "\n",
    "    #returning the image only where mask pixels are nonzero\n",
    "    masked_image = cv2.bitwise_and(img, mask)\n",
    "    return masked_image\n",
    "\n",
    "showHistogram = False\n",
    "showCanny = False\n",
    "showRoi = False\n",
    "timeDelay = 30\n",
    "\n",
    "reliableMarkings = []\n",
    "print(\"Reliable Lane markings cell: \")\n",
    "for im in tqdm(imageArray):\n",
    "    # Feature extraction based off https://medium.com/@galen.ballew/opencv-lanedetection-419361364fc0\n",
    "    # Only white lines are going to be looked out, so only one threshold is needed\n",
    "    grayIm = cv2.cvtColor(im, cv2.COLOR_BGR2GRAY)  # White uses grayscale threshold\n",
    "    grayImHist = cv2.equalizeHist(grayIm)  # Equalize the image to account for changes in exposure\n",
    "    \n",
    "    # # Inverse perspective mapping\n",
    "    # Currently no smarts behind it \n",
    "    cv2.getPerspectiveTransform(dst,src)\n",
    "    \n",
    "    if showHistogram:\n",
    "        cv2.imshow(\"PreHist\", cv2.resize(grayIm, None, fx=0.5, fy=0.5))\n",
    "        cv2.imshow(\"PostHist\", cv2.resize(grayImHist, None, fx=0.5, fy=0.5))\n",
    "        cv2.waitKey(timeDelay)\n",
    "    \n",
    "    # Apply a mask to find the white lines on the road\n",
    "    mask_white = cv2.inRange(grayImHist, 200, 255)  # Threshold bright values\n",
    "    kernel_size = 5\n",
    "    mask_white = cv2.GaussianBlur(mask_white,(kernel_size,kernel_size),0)\n",
    "    mask_white = cv2.medianBlur(mask_white, 11)\n",
    "    \n",
    "    # Apply canny edge detection to look for lines with relevant gradients\n",
    "    low_threshold = 50\n",
    "    high_threshold = 150\n",
    "    canny_edges = cv2.Canny(mask_white, low_threshold, high_threshold)\n",
    "    if showCanny:\n",
    "        cv2.imshow(\"Canny\", cv2.resize(canny_edges, None, fx=0.5, fy=0.5))\n",
    "        cv2.waitKey(timeDelay)\n",
    "    # Apply a region of interest\n",
    "    imshape = im.shape\n",
    "    lower_left = [imshape[1]/10,imshape[0]]\n",
    "    lower_right = [imshape[1]-imshape[1]/10,imshape[0]]\n",
    "    top_left = [imshape[1]/2-imshape[1]/8,imshape[0]/2+imshape[0]/15]\n",
    "    top_right = [imshape[1]/2+imshape[1]/8,imshape[0]/2+imshape[0]/15]\n",
    "    vertices = [np.array([lower_left,top_left,top_right,lower_right],dtype=np.int32)]  # Get the relevant roi\n",
    "    \n",
    "    roi_image = region_of_interest(canny_edges, vertices)\n",
    "    # Apply the roi\n",
    "    if showRoi:\n",
    "        cv2.imshow(\"Roi\", cv2.resize(roi_image, None, fx=0.5, fy=0.5))\n",
    "        cv2.waitKey(timeDelay)\n",
    "        \n",
    "    reliableMarkings.append(roi_image)\n",
    "    clear_output(True)\n",
    "\n",
    "\n",
    "print(''.join(['-' for i in range(50)]))"
   ],
   "metadata": {
    "collapsed": false,
    "pycharm": {
     "name": "#%% -i imageArray -o reliableMarkings\n",
     "is_executing": false
    }
   }
  },
  {
   "cell_type": "code",
   "execution_count": 4,
   "outputs": [
    {
     "name": "stderr",
     "text": [
      "\r88it [00:10,  9.49it/s]",
      "\n"
     ],
     "output_type": "stream"
    },
    {
     "name": "stdout",
     "text": [
      "--------------------------------------------------",
      "\n"
     ],
     "output_type": "stream"
    }
   ],
   "source": [
    "# Show of all the processing types\n",
    "import cv2\n",
    "from matplotlib import pyplot as plt\n",
    "from IPython.display import clear_output\n",
    "from tqdm import tqdm\n",
    "\n",
    "fig = plt.figure()\n",
    "ims = []\n",
    "for img, reliable in tqdm(zip(imageArray, reliableMarkings)):\n",
    "    \n",
    "    cv2.imshow(\"Original\", cv2.resize(img, None, fx=0.5, fy=0.5))\n",
    "    cv2.imshow(\"Reliable markings\", cv2.resize(reliable, None, fx=0.5, fy=0.5))\n",
    "    cv2.waitKey(100)\n",
    "    clear_output(True)\n",
    "\n",
    "print(''.join(['-' for i in range(50)]))\n",
    "\n",
    "\n"
   ],
   "metadata": {
    "collapsed": false,
    "pycharm": {
     "name": "#%% -i imageArray reliableMarkings\n",
     "is_executing": false
    }
   }
  }
 ],
 "metadata": {
  "language_info": {
   "codemirror_mode": {
    "name": "ipython",
    "version": 2
   },
   "file_extension": ".py",
   "mimetype": "text/x-python",
   "name": "python",
   "nbconvert_exporter": "python",
   "pygments_lexer": "ipython2",
   "version": "2.7.6"
  },
  "kernelspec": {
   "name": "python3",
   "language": "python",
   "display_name": "Python 3"
  },
  "pycharm": {
   "stem_cell": {
    "cell_type": "raw",
    "source": [],
    "metadata": {
     "collapsed": false
    }
   }
  }
 },
 "nbformat": 4,
 "nbformat_minor": 0
}